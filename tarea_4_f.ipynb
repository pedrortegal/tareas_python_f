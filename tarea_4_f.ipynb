{
 "cells": [
  {
   "cell_type": "markdown",
   "metadata": {},
   "source": [
    "# Librerías\n",
    "\n",
    "Las <span style=\"color:gold\">librerías</span> o <span style=\"color:gold\">bibliotecas</span> de Python son colecciones de módulos y funciones predefinidas que permiten a los usuarios ahorrar\\\n",
    "tiempo y esfuerzo al utilizar código ya creado y probado para realizar tareas específicas."
   ]
  },
  {
   "cell_type": "markdown",
   "metadata": {},
   "source": [
    "# Tarea sesion 4"
   ]
  },
  {
   "cell_type": "code",
   "execution_count": 1,
   "metadata": {},
   "outputs": [
    {
     "name": "stdout",
     "output_type": "stream",
     "text": [
      "Se usarán  8  dados\n",
      "Se harán  9  lanzamientos\n"
     ]
    },
    {
     "data": {
      "text/plain": [
       "array([[4., 2., 3., 2., 6., 1., 2., 4., 6.],\n",
       "       [3., 3., 6., 6., 5., 1., 6., 6., 1.],\n",
       "       [4., 4., 1., 5., 4., 6., 5., 6., 1.],\n",
       "       [4., 3., 5., 1., 3., 6., 5., 3., 2.],\n",
       "       [2., 5., 6., 3., 5., 5., 5., 5., 1.],\n",
       "       [6., 1., 4., 3., 1., 3., 4., 2., 5.],\n",
       "       [3., 4., 4., 2., 6., 3., 3., 1., 4.],\n",
       "       [4., 1., 5., 5., 4., 6., 2., 6., 4.]])"
      ]
     },
     "execution_count": 1,
     "metadata": {},
     "output_type": "execute_result"
    }
   ],
   "source": [
    "import numpy as np\n",
    "numero_dados = int(input(\"Cuantos dados se usarán: \"))\n",
    "numero_lanzamientos = int(input(\"Cuantos lanzamientos se harán: \"))\n",
    "print(\"Se usarán \",numero_dados,\" dados\")\n",
    "print(\"Se harán \",numero_lanzamientos,\" lanzamientos\")\n",
    "resultados=np.zeros( (numero_dados, numero_lanzamientos) )\n",
    "rng = np.random.default_rng()\n",
    "for i in range(numero_lanzamientos):\n",
    "    for j in range(numero_dados):\n",
    "        resultados[j, i]= rng.integers(1, 7)\n",
    "resultados\n"
   ]
  }
 ],
 "metadata": {
  "kernelspec": {
   "display_name": "curso_python",
   "language": "python",
   "name": "python3"
  },
  "language_info": {
   "codemirror_mode": {
    "name": "ipython",
    "version": 3
   },
   "file_extension": ".py",
   "mimetype": "text/x-python",
   "name": "python",
   "nbconvert_exporter": "python",
   "pygments_lexer": "ipython3",
   "version": "3.12.1"
  }
 },
 "nbformat": 4,
 "nbformat_minor": 2
}
