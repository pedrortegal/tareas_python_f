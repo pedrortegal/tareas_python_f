{
 "cells": [
  {
   "cell_type": "markdown",
   "metadata": {},
   "source": [
    "## Tarea 3"
   ]
  },
  {
   "cell_type": "markdown",
   "metadata": {},
   "source": [
    "#Punto 1"
   ]
  },
  {
   "cell_type": "code",
   "execution_count": 62,
   "metadata": {},
   "outputs": [
    {
     "name": "stdout",
     "output_type": "stream",
     "text": [
      "la longitud es  45.99  y la latitud es  87.72\n"
     ]
    }
   ],
   "source": [
    "longitud = float(input(\"Introduce la longitud: \"))\n",
    "longitud_r=round(longitud,2)\n",
    "latitud = float(input(\"Introduce la latitud: \"))\n",
    "latitud_r=round(latitud,2)\n",
    "print(\"la longitud es \",longitud_r,\" y la latitud es \",latitud_r)"
   ]
  },
  {
   "cell_type": "markdown",
   "metadata": {},
   "source": [
    "#Punto 2"
   ]
  },
  {
   "cell_type": "code",
   "execution_count": 63,
   "metadata": {},
   "outputs": [
    {
     "name": "stdout",
     "output_type": "stream",
     "text": [
      "Hola  Pedro  bienvenido a Python\n"
     ]
    }
   ],
   "source": [
    "nombre=input(\"entre su nombre:\")\n",
    "print(\"Hola \",nombre,\" bienvenido a Python\")"
   ]
  },
  {
   "cell_type": "markdown",
   "metadata": {},
   "source": [
    "#Punto 3"
   ]
  },
  {
   "cell_type": "code",
   "execution_count": 64,
   "metadata": {},
   "outputs": [
    {
     "name": "stdout",
     "output_type": "stream",
     "text": [
      "75.98 C es  168.764 F\n"
     ]
    }
   ],
   "source": [
    "temperatura_C=float(input(\"Entre la temperatura en Celsius a convertir: \"))\n",
    "temperatura_F=temperatura_C*(9/5)+32\n",
    "print(temperatura_C,\"C es \",temperatura_F,\"F\")"
   ]
  },
  {
   "cell_type": "markdown",
   "metadata": {},
   "source": [
    "#Punto opcional"
   ]
  },
  {
   "cell_type": "code",
   "execution_count": 71,
   "metadata": {},
   "outputs": [],
   "source": [
    "numero=int(input(\"Entre el número a evaluar:\"))\n",
    "for n in range(2,numero):\n",
    "    if numero % n==0:\n",
    "        print(numero,\" no es primo \",n,\" es el divisor\")\n",
    "        condicion=True\n",
    "        \n",
    "if condicion==False:\n",
    "    print(numero,\" es primo\")"
   ]
  }
 ],
 "metadata": {
  "kernelspec": {
   "display_name": "ambiente_curso",
   "language": "python",
   "name": "python3"
  },
  "language_info": {
   "codemirror_mode": {
    "name": "ipython",
    "version": 3
   },
   "file_extension": ".py",
   "mimetype": "text/x-python",
   "name": "python",
   "nbconvert_exporter": "python",
   "pygments_lexer": "ipython3",
   "version": "3.12.1"
  }
 },
 "nbformat": 4,
 "nbformat_minor": 2
}
